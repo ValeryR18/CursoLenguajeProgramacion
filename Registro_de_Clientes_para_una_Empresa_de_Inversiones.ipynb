{
  "nbformat": 4,
  "nbformat_minor": 0,
  "metadata": {
    "colab": {
      "provenance": []
    },
    "kernelspec": {
      "name": "python3",
      "display_name": "Python 3"
    },
    "language_info": {
      "name": "python"
    }
  },
  "cells": [
    {
      "cell_type": "markdown",
      "source": [
        "# **Descripción**\n",
        "\n",
        "En esta aplicación, los estudiantes simularán el registro de clientes para una empresa de inversiones. Usarán listas, tuplas y diccionarios para almacenar y gestionar información básica sobre los clientes, sus inversiones y el rendimiento de estas. El ejercicio no requiere el uso de ciclos o bucles, y cada operación se realizará de forma explícita."
      ],
      "metadata": {
        "id": "nYRnN-KLI4Ix"
      }
    },
    {
      "cell_type": "markdown",
      "source": [
        "## Paso a Paso de la Aplicación\n",
        "1. **Datos Iniciales del Registro de Clientes**\n",
        "Los estudiantes deben crear listas para almacenar la información básica de los clientes, como el nombre, el monto invertido y el rendimiento obtenido."
      ],
      "metadata": {
        "id": "PZIEw-7SI-2s"
      }
    },
    {
      "cell_type": "code",
      "execution_count": null,
      "metadata": {
        "id": "3ID7lSJaIy_X"
      },
      "outputs": [],
      "source": [
        "# Listas para almacenar información de clientes\n",
        "clientes = [\"Juan Perez\", \"Maria Rodriguez\", \"Carlos Lopez\"]\n",
        "montos_invertidos = [10000, 15000, 20000]  # en dólares\n",
        "rendimientos = [5.0, 6.5, 7.0]  # en porcentaje\n",
        "\n"
      ]
    },
    {
      "cell_type": "markdown",
      "source": [
        "2. **Crear Tuplas para Cada Cliente**\n",
        "Cada cliente tendrá una tupla que contenga su nombre, el monto invertido y el rendimiento obtenido. Esta información es inmutable."
      ],
      "metadata": {
        "id": "1O-iPIbXKbTm"
      }
    },
    {
      "cell_type": "markdown",
      "source": [
        "3. **Organizar los Datos en un Diccionario**\n",
        "Crear un diccionario llamado registro_clientes donde cada clave sea el nombre de un cliente y el valor sea un diccionario con detalles del monto invertido y el rendimiento."
      ],
      "metadata": {
        "id": "kVFvpWF5KipP"
      }
    },
    {
      "cell_type": "markdown",
      "source": [
        "4. **Calcular el Rendimiento Total de un Cliente**\n",
        "Usando el diccionario registro_clientes, los estudiantes calcularán el rendimiento total (en dólares) de un cliente específico, por ejemplo, \"Maria Rodriguez\"."
      ],
      "metadata": {
        "id": "hitAKVLXKnXQ"
      }
    },
    {
      "cell_type": "markdown",
      "source": [
        "5. **Actualizar el Monto Invertido de un Cliente**\n",
        "Los estudiantes deben actualizar el monto_invertido de \"Carlos Lopez\" en el diccionario registro_clientes a un nuevo valor (por ejemplo, 25000)."
      ],
      "metadata": {
        "id": "qattAT40Kw_l"
      }
    },
    {
      "cell_type": "markdown",
      "source": [
        "6. **Añadir un Nuevo Cliente al Registro**\n",
        "Añadir un nuevo cliente llamado \"Ana Gomez\" al diccionario registro_clientes con un monto_invertido de 18000 y un rendimiento de 5.8%."
      ],
      "metadata": {
        "id": "_MWWTlDiKzrh"
      }
    },
    {
      "cell_type": "markdown",
      "source": [
        "7. **Remover un Cliente del Registro**\n",
        "Remover al cliente \"Juan Perez\" del diccionario registro_clientes."
      ],
      "metadata": {
        "id": "WhxURQlJK5Gp"
      }
    },
    {
      "cell_type": "markdown",
      "source": [
        "**#Desarrollo**\n",
        "\n",
        "**1.   Elemento de la lista**\n"
      ],
      "metadata": {
        "id": "lQTq2rLNK-aW"
      }
    },
    {
      "cell_type": "code",
      "source": [
        "clientes = [\"Manuela Lopez\", \"Juan García\", \"Laura Espinosa\"]\n",
        "montos_invertidos = [20000, 30000, 40000]  # en dólares\n",
        "rendimientos = [4.0, 7.0, 8.5]  # en porcentaje"
      ],
      "metadata": {
        "id": "UvGROfya-RSh"
      },
      "execution_count": 2,
      "outputs": []
    },
    {
      "cell_type": "markdown",
      "source": [
        "**2.Creación de la lista**"
      ],
      "metadata": {
        "id": "kEKIyoks_c_t"
      }
    },
    {
      "cell_type": "code",
      "source": [
        "clientes=[\"Manuela Lopez\", \"Juan García\", \"Laura Espinosa\"]\n",
        "print(clientes)\n",
        "print(\"\\n\")\n",
        "print(type(clientes))"
      ],
      "metadata": {
        "id": "x9m-Zzm5_hG8",
        "outputId": "69ebda5f-ec52-40ff-9894-da41e79c68c7",
        "colab": {
          "base_uri": "https://localhost:8080/"
        }
      },
      "execution_count": 3,
      "outputs": [
        {
          "output_type": "stream",
          "name": "stdout",
          "text": [
            "['Manuela Lopez', 'Juan García', 'Laura Espinosa']\n",
            "\n",
            "\n",
            "<class 'list'>\n"
          ]
        }
      ]
    },
    {
      "cell_type": "markdown",
      "source": [
        "**3. Tupla**"
      ],
      "metadata": {
        "id": "BwpWOm6q-4LY"
      }
    },
    {
      "cell_type": "code",
      "source": [
        "tupla_cliente1=(\"Manuela Lopez\", 20000, 4.0)\n",
        "tupla_cliente1\n",
        "rendimiento1=20000*4.0/100\n",
        "rendimiento1\n",
        "print(tupla_cliente1,rendimiento1)"
      ],
      "metadata": {
        "id": "V-3_Ip9OAUj8",
        "outputId": "1280ef51-2149-4321-a1aa-4fa179ec095b",
        "colab": {
          "base_uri": "https://localhost:8080/"
        }
      },
      "execution_count": 13,
      "outputs": [
        {
          "output_type": "stream",
          "name": "stdout",
          "text": [
            "('Manuela Lopez', 20000, 4.0) 800.0\n"
          ]
        }
      ]
    },
    {
      "cell_type": "code",
      "source": [
        "tupla_cliente2=(\"Juan Gracía\", 30000, 7.0)\n",
        "tupla_cliente2\n",
        "rendimiento2=30000*7.0/100\n",
        "rendimiento2\n",
        "print(tupla_cliente2,rendimiento2)"
      ],
      "metadata": {
        "id": "8xGgdb7pA-Kn",
        "outputId": "068d58ff-bbb0-405d-8efe-5fb49ef814d8",
        "colab": {
          "base_uri": "https://localhost:8080/"
        }
      },
      "execution_count": 11,
      "outputs": [
        {
          "output_type": "stream",
          "name": "stdout",
          "text": [
            "('Juan Gracía', 30000, 7.0) 2100.0\n"
          ]
        }
      ]
    },
    {
      "cell_type": "code",
      "source": [
        "tupla_cliente3=(\"Laura Espinosa\", 40000, 8.5)\n",
        "tupla_cliente3\n",
        "renmiento3=40000*8.5/100\n",
        "renmiento3\n",
        "print(tupla_cliente3,renmiento3)"
      ],
      "metadata": {
        "id": "Ulf5JhwfBVgg",
        "outputId": "d122bb46-f9ce-4f9a-c5cd-85e37fec6ce1",
        "colab": {
          "base_uri": "https://localhost:8080/"
        }
      },
      "execution_count": 14,
      "outputs": [
        {
          "output_type": "stream",
          "name": "stdout",
          "text": [
            "('Laura Espinosa', 40000, 8.5) 3400.0\n"
          ]
        }
      ]
    },
    {
      "cell_type": "markdown",
      "source": [
        "**4. Diccionario**"
      ],
      "metadata": {
        "id": "Q1xGsm32Co2b"
      }
    },
    {
      "cell_type": "code",
      "source": [
        "registro_clientes={\n",
        "    \"Manuela Lopez\":(20000,4.0),\n",
        "    \"Juan García\":(30000,7.0),\n",
        "    \"Laura Espinosa\":(40000,8.5)\n",
        "}\n",
        "\n",
        "print(type(clientes))\n",
        "print(clientes)\n"
      ],
      "metadata": {
        "id": "1Lb8s_FrGAvz",
        "outputId": "c1906612-c16f-4003-e3fa-e84aa261d2e7",
        "colab": {
          "base_uri": "https://localhost:8080/"
        }
      },
      "execution_count": 15,
      "outputs": [
        {
          "output_type": "stream",
          "name": "stdout",
          "text": [
            "<class 'dict'>\n",
            "{'Manuela Lopez': (20000, 4.0), 'Juan García': (30000, 7.0), 'Laura Espinosa': (40000, 8.5)}\n"
          ]
        }
      ]
    },
    {
      "cell_type": "markdown",
      "source": [
        "**5. Rendimiento de Manuela Lopez**"
      ],
      "metadata": {
        "id": "3JQJnBn7Hft-"
      }
    },
    {
      "cell_type": "code",
      "source": [
        "print(rendimiento1)"
      ],
      "metadata": {
        "id": "Dywq1nMWHkZq",
        "outputId": "e85f028e-6971-4fec-f175-e3a771e07a60",
        "colab": {
          "base_uri": "https://localhost:8080/"
        }
      },
      "execution_count": 16,
      "outputs": [
        {
          "output_type": "stream",
          "name": "stdout",
          "text": [
            "800.0\n"
          ]
        }
      ]
    },
    {
      "cell_type": "markdown",
      "source": [
        "**6.Monto invertido de Manuela Lopez**"
      ],
      "metadata": {
        "id": "CaoGgg7LJlle"
      }
    }
  ]
}